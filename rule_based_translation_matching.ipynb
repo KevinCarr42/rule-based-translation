{
 "cells": [
  {
   "cell_type": "code",
   "id": "initial_id",
   "metadata": {
    "collapsed": true
   },
   "source": [
    "import pickle\n",
    "import io\n",
    "import pandas as pd\n",
    "import pdfplumber\n",
    "import re\n",
    "import requests\n",
    "import spacy\n",
    "import zipfile\n",
    "\n",
    "NLPS = {'en': spacy.load(\"en_core_web_sm\"),\n",
    "        'fr': spacy.load(\"fr_core_news_sm\")}\n"
   ],
   "outputs": [],
   "execution_count": null
  },
  {
   "metadata": {},
   "cell_type": "markdown",
   "source": [
    "# NOTES\n",
    "* species_translations were found at the following url:\n",
    "    * https://www.dfo-mpo.gc.ca/species-especes/identify-eng.html\n",
    "    * this data is super messy, with many errors and a small number of species\n",
    "    * this source of species translations has been abandoned\n",
    "        * the initial commit demonstrates these data quality issues  "
   ],
   "id": "c7d575ba66a22e50"
  },
  {
   "metadata": {},
   "cell_type": "markdown",
   "source": "# Location Translations ",
   "id": "8221327b136da8d6"
  },
  {
   "metadata": {},
   "cell_type": "code",
   "source": [
    "\"\"\"\n",
    "https://natural-resources.canada.ca/maps-tools-publications/maps/geographical-names-canada/translating-geographical-names\n",
    "\n",
    "Translating Geographical Names\n",
    "Generally in Canada, place names have one official language form: the name approved by a provincial or territorial naming authority. Exceptions to the rule are:\n",
    "\n",
    "Geographical names of ‘pan-Canadian’ significance\n",
    "Names of pan-Canadian significance have customary and well-known forms in both English and French. The list was established by the Treasury Board of Canada, and is maintained by the Geographical Names Board of Canada. The geographical names on this list are shown in both English and French on maps and in documents published by the Government of Canada. See the list of geographical names of pan-Canadian significance.\n",
    "\n",
    "Names of national parks and national historic sites\n",
    "National parks and national historic sites established by Parks Canada have an official name in English and in French.\n",
    "\n",
    "Names of certain towns and cities\n",
    "Most municipalities have only one official name adopted by the province or territory where the place is located, and this name should not be translated. However, certain municipalities have official names in both French and English, for example: Grand Falls and Grand-Sault in New Brunswick, and Greater Sudbury and Grand Sudbury in Ontario.\n",
    "\n",
    "Names of undersea features\n",
    "Some undersea features have an English and a French name approved by the Advisory Committee on Undersea Feature Names, one of the Geographical Names Board of Canada’s advisory committees.\n",
    "\n",
    "Use of geographical names in Government of Canada documents\n",
    "The principle governing the use of geographical names on maps and in documents published by the Government of Canada is to use the official form(s) of geographical names as adopted by the federal, provincial or territorial authorities of the Geographical Names Board of Canada.\n",
    "\n",
    "Names of inhabited places retain their official form in English and French texts.\n",
    "\n",
    "The use of names of pan-Canadian significance must be respected on both maps and in texts.\n",
    "\n",
    "In text documents, it is permissible to translate the generic portion of name of a geographical feature. The generic portion of the name indicates the nature of the entity (for example the word “River” in the name “Bow River”). However, the specific portion of name does not get translated (for example, in the name of “Bow River”, the specific is the word “Bow”). In this example, the name “Bow River” could be translated as “rivière Bow” in a text.\n",
    "\n",
    "You will find the list of English generics and their French equivalents in the document “Glossary of generic terms in Canada’s geographical names” published by the Translation Bureau of Public Services and Procurement Canada.\n",
    "\n",
    "For more information concerning the rules for translating geographical names, please visit the Language Portal of Canada, a Translation Bureau initiative.\n",
    "\n",
    "\"\"\"\n"
   ],
   "id": "8f80cb0de7e41614",
   "outputs": [],
   "execution_count": null
  },
  {
   "metadata": {},
   "cell_type": "markdown",
   "source": [
    "## build the dictionaries\n",
    "(or load them if they exist)"
   ],
   "id": "9183aba3eb7d8b7b"
  },
  {
   "metadata": {},
   "cell_type": "code",
   "source": [
    "# links to sources\n",
    "\n",
    "# FIXME\n",
    "\n",
    "PAN_PDF   = \"https://publications.gc.ca/collections/collection_2017/rncan-nrcan/M86-23-2012-eng.pdf\"\n",
    "PARKS_GJ  = \"https://.../national_parks.geojson\"  # see open portal\n",
    "CGN_ZIP   = \"https://natural-resources.canada.ca/.../cgn_canada_csv.zip\""
   ],
   "id": "132148997ddbfdde",
   "outputs": [],
   "execution_count": null
  },
  {
   "metadata": {},
   "cell_type": "code",
   "source": [
    "def build_pan_canadian(url):\n",
    "    pairs = {}\n",
    "    with pdfplumber.open(requests.get(url, stream=True).raw) as pdf:\n",
    "        txt = \"\\n\".join(page.extract_text() for page in pdf.pages)\n",
    "    for en, fr in re.findall(r'^(.+?)\\s*/\\s*(.+?)\\s*$', txt, flags=re.MULTILINE):\n",
    "        pairs[en.strip()] = fr.strip()\n",
    "    return pairs\n",
    "\n",
    "def build_from_geojson(url, en_key=\"NAME_E\", fr_key=\"NAME_F\"):\n",
    "    df = pd.read_json(url)\n",
    "    return dict(zip(df[en_key], df[fr_key]))\n",
    "\n",
    "def build_cgndb_pairs(zip_url):\n",
    "    z = zipfile.ZipFile(io.BytesIO(requests.get(zip_url).content))\n",
    "    frames = []\n",
    "    for csv in z.namelist():\n",
    "        if csv.endswith(\".csv\"):\n",
    "            frames.append(pd.read_csv(z.open(csv), dtype=str))\n",
    "    df = pd.concat(frames)\n",
    "    english = df.query(\"NAMETYPE=='English'\")\n",
    "    french  = df.query(\"NAMETYPE=='French'\")\n",
    "    merged = english.merge(french, on=\"CGNDB_UID\", suffixes=(\"_en\", \"_fr\"))\n",
    "    return dict(zip(merged.NAME_en, merged.NAME_fr))\n"
   ],
   "id": "8f14903d2bb5b6dd",
   "outputs": [],
   "execution_count": null
  },
  {
   "metadata": {},
   "cell_type": "code",
   "source": [
    "# save dictionaries first run\n",
    "\n",
    "file_path = 'BILINGUAL.pickle'\n",
    "\n",
    "try:\n",
    "    with open(file_path, 'rb') as file:\n",
    "        BILINGUAL = pickle.load(file)\n",
    "except FileNotFoundError:\n",
    "    BILINGUAL = None\n",
    "   \n",
    "if BILINGUAL is None:\n",
    "    pan_dict   = build_pan_canadian(PAN_PDF)\n",
    "    parks_dict = build_from_geojson(PARKS_GJ)\n",
    "    cgndb_dict = build_cgndb_pairs(CGN_ZIP)\n",
    "    \n",
    "    BILINGUAL = {**pan_dict, **parks_dict, **cgndb_dict}\n",
    "    \n",
    "    with open(file_path, 'wb') as file:\n",
    "        pickle.dump(BILINGUAL, file)\n"
   ],
   "id": "5d1cb26d475a1431",
   "outputs": [],
   "execution_count": null
  },
  {
   "metadata": {},
   "cell_type": "code",
   "source": [
    "# glossary parse\n",
    "\n",
    "def parse_glossary_en(path):\n",
    "    lines = []\n",
    "    with pdfplumber.open(path) as pdf:\n",
    "        for pg in pdf.pages:\n",
    "            lines += pg.extract_text().splitlines()\n",
    "\n",
    "    out, n, i = {}, len(lines), 0\n",
    "    while i < n:\n",
    "        if lines[i].strip() == \"DES\":\n",
    "            word = lines[i-1].strip()\n",
    "            if re.fullmatch(r\"[A-Za-z' -]+\", word):\n",
    "                j = i + 1\n",
    "                while j < n and not lines[j].lstrip().startswith(\"EQ\"):\n",
    "                    j += 1\n",
    "                if j < n:\n",
    "                    fr = re.sub(r\"\\[|\\]\", \"\", lines[j].split(\"EQ\", 1)[1]).strip()\n",
    "                    fr = re.split(r\"\\s*\\(.*?\\)\", fr)[0].strip()\n",
    "                    if fr:\n",
    "                        out[word.lower()] = fr.lower()\n",
    "                i = j\n",
    "        i += 1\n",
    "    return out\n"
   ],
   "id": "f6489ad1fe847ae6",
   "outputs": [],
   "execution_count": null
  },
  {
   "metadata": {},
   "cell_type": "code",
   "source": [
    "# save glossary dict first run\n",
    "\n",
    "file_path = 'GEN_EN_FR.pickle'\n",
    "\n",
    "try:\n",
    "    with open(file_path, 'rb') as file:\n",
    "        GEN_EN_FR = pickle.load(file)\n",
    "except FileNotFoundError:\n",
    "    GEN_EN_FR = None\n",
    "   \n",
    "if GEN_EN_FR is None:\n",
    "    glossary_pdf = \"Glossary of Generic Terms in Canada's Geographical Names S52-2-176-2012.pdf\"\n",
    "    GEN_EN_FR = parse_glossary_en(glossary_pdf)\n",
    "    \n",
    "    with open(file_path, 'wb') as file:\n",
    "        pickle.dump(GEN_EN_FR, file)\n",
    "\n",
    "GEN_FR_EN = {v: k for k, v in GEN_EN_FR.items()}"
   ],
   "id": "4666b90a3850d984",
   "outputs": [],
   "execution_count": null
  },
  {
   "metadata": {},
   "cell_type": "markdown",
   "source": "## translation and verification",
   "id": "fd51eb89f0cac26e"
  },
  {
   "metadata": {},
   "cell_type": "code",
   "source": [
    "LABELS = (\"GPE\", \"LOC\", \"FAC\")\n",
    "# GPE - Geo-political entity (jurisdictions with governments)\n",
    "# LOC - Other physical locations (not GPEs)\n",
    "# FAC - Man-made facilities or infrastructure\n",
    "\n",
    "def _split(name, mapping):\n",
    "    parts = name.split()\n",
    "    for i in range(1, len(parts) + 1):\n",
    "        gen = \" \".join(parts[-i:])\n",
    "        if gen in mapping:\n",
    "            return \" \".join(parts[:-i]), gen\n",
    "    return name, \"\"\n",
    "\n",
    "def translate(name, target):\n",
    "    if target == \"fr\" and name in BILINGUAL:\n",
    "        return BILINGUAL[name]\n",
    "    if target == \"en\" and name in {v: k for k, v in BILINGUAL.items()}:\n",
    "        return {v: k for k, v in BILINGUAL.items()}[name]\n",
    "    if target == \"fr\":\n",
    "        spec, gen = _split(name, GEN_EN_FR)\n",
    "        return f\"{GEN_EN_FR.get(gen, gen)} {spec}\".strip()\n",
    "    spec, gen = _split(name, GEN_FR_EN)\n",
    "    return f\"{spec} {GEN_FR_EN.get(gen, gen)}\".strip()\n",
    "\n",
    "def verify(src, dst, src_lang):\n",
    "    tgt_lang = \"fr\" if src_lang == \"en\" else \"en\"\n",
    "    return translate(src, tgt_lang) == dst\n",
    "\n",
    "def find_locations(text, lang):\n",
    "    doc = NLPS[lang](text)\n",
    "    return [e.text for e in doc.ents if e.label_ in LABELS]\n",
    "\n",
    "def extract_locations(text, lang=\"en\"):\n",
    "    out = []\n",
    "    for p_idx, para in enumerate(text.split(\"\\n\\n\"), 1):\n",
    "        doc = NLPS[lang](para)\n",
    "        for s_idx, sent in enumerate(doc.sents, 1):\n",
    "            for ent in sent.ents:\n",
    "                if ent.label_ in LABELS:\n",
    "                    out.append((p_idx, s_idx, ent.text))\n",
    "    return out\n",
    "\n",
    "def match_locations(en_text, fr_text):\n",
    "    en_locs = extract_locations(en_text, \"en\")\n",
    "    fr_locs = extract_locations(fr_text, \"fr\")\n",
    "    fr_map = {(p, s): t for p, s, t in fr_locs}\n",
    "\n",
    "    pairs, missing = [], []\n",
    "    for p, s, en_t in en_locs:\n",
    "        fr_expected = translate(en_t, \"fr\")\n",
    "        if fr_map.get((p, s), \"\").lower() == fr_expected.lower():\n",
    "            pairs.append(((p, s, en_t), fr_expected))\n",
    "        else:\n",
    "            missing.append((p, s, en_t, fr_expected))\n",
    "    return pairs, missing\n",
    "\n"
   ],
   "id": "2a219c9f465419ec",
   "outputs": [],
   "execution_count": null
  },
  {
   "metadata": {},
   "cell_type": "code",
   "source": "",
   "id": "33ebe7d5a0eb9c60",
   "outputs": [],
   "execution_count": null
  },
  {
   "metadata": {},
   "cell_type": "code",
   "source": "",
   "id": "ac6b46466c5135fe",
   "outputs": [],
   "execution_count": null
  },
  {
   "metadata": {},
   "cell_type": "code",
   "source": "",
   "id": "51f72f9966c6d752",
   "outputs": [],
   "execution_count": null
  },
  {
   "metadata": {},
   "cell_type": "code",
   "source": "",
   "id": "55747b260c38eb50",
   "outputs": [],
   "execution_count": null
  },
  {
   "metadata": {},
   "cell_type": "code",
   "source": "",
   "id": "10bf25916da97059",
   "outputs": [],
   "execution_count": null
  },
  {
   "metadata": {},
   "cell_type": "code",
   "source": "",
   "id": "729725b9fb6f30b1",
   "outputs": [],
   "execution_count": null
  },
  {
   "metadata": {},
   "cell_type": "markdown",
   "source": "# Species Translations",
   "id": "d19d2d38c265d3cc"
  },
  {
   "metadata": {},
   "cell_type": "code",
   "source": [
    "species_translations = {\n",
    "    \n",
    "}"
   ],
   "id": "a86170de597adc6e",
   "outputs": [],
   "execution_count": null
  },
  {
   "metadata": {},
   "cell_type": "markdown",
   "source": "# Preferential Translations",
   "id": "34b379d8ab5dc75a"
  },
  {
   "metadata": {},
   "cell_type": "code",
   "source": [
    "preferential_translations = {\n",
    "    \n",
    "}"
   ],
   "id": "7ac6c0733329e98e",
   "outputs": [],
   "execution_count": null
  },
  {
   "metadata": {},
   "cell_type": "markdown",
   "source": "# Translation Quality Checker",
   "id": "2e7d4aa1c553aff3"
  },
  {
   "metadata": {},
   "cell_type": "code",
   "source": [
    "# isolate any pre-translated instances from above lists \n",
    "# match to translated version \n",
    "# compare vs expected translation\n",
    "# [optional] find-and-replace to clean up translation\n",
    "\n"
   ],
   "id": "828ae6d8042edd44",
   "outputs": [],
   "execution_count": null
  },
  {
   "metadata": {},
   "cell_type": "code",
   "source": "",
   "id": "5c2a5884b2e9480",
   "outputs": [],
   "execution_count": null
  }
 ],
 "metadata": {
  "kernelspec": {
   "display_name": "Python 3",
   "language": "python",
   "name": "python3"
  },
  "language_info": {
   "codemirror_mode": {
    "name": "ipython",
    "version": 2
   },
   "file_extension": ".py",
   "mimetype": "text/x-python",
   "name": "python",
   "nbconvert_exporter": "python",
   "pygments_lexer": "ipython2",
   "version": "2.7.6"
  }
 },
 "nbformat": 4,
 "nbformat_minor": 5
}
