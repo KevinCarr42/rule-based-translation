{
 "cells": [
  {
   "cell_type": "code",
   "id": "initial_id",
   "metadata": {
    "collapsed": true,
    "ExecuteTime": {
     "end_time": "2025-07-08T15:21:27.116610Z",
     "start_time": "2025-07-08T15:21:27.102174Z"
    }
   },
   "source": [
    "import json\n",
    "import re\n",
    "import pandas as pd\n",
    "import numpy as np\n"
   ],
   "outputs": [],
   "execution_count": 36
  },
  {
   "metadata": {},
   "cell_type": "markdown",
   "source": [
    "# NOTES\n",
    "* species_translations were found at the following url:\n",
    "    * https://www.dfo-mpo.gc.ca/species-especes/identify-eng.html\n",
    "    * this data is super messy, with many errors and a small number of species\n",
    "    * this source of species translations has been abandoned\n",
    "        * the initial commit demonstrates these data quality issues  "
   ],
   "id": "c7d575ba66a22e50"
  },
  {
   "metadata": {},
   "cell_type": "markdown",
   "source": "# Location Translations ",
   "id": "8221327b136da8d6"
  },
  {
   "metadata": {},
   "cell_type": "code",
   "outputs": [],
   "execution_count": null,
   "source": [
    "\"\"\"\n",
    "https://natural-resources.canada.ca/maps-tools-publications/maps/geographical-names-canada/translating-geographical-names\n",
    "\n",
    "Translating Geographical Names\n",
    "Generally in Canada, place names have one official language form: the name approved by a provincial or territorial naming authority. Exceptions to the rule are:\n",
    "\n",
    "Geographical names of ‘pan-Canadian’ significance\n",
    "Names of pan-Canadian significance have customary and well-known forms in both English and French. The list was established by the Treasury Board of Canada, and is maintained by the Geographical Names Board of Canada. The geographical names on this list are shown in both English and French on maps and in documents published by the Government of Canada. See the list of geographical names of pan-Canadian significance.\n",
    "\n",
    "Names of national parks and national historic sites\n",
    "National parks and national historic sites established by Parks Canada have an official name in English and in French.\n",
    "\n",
    "Names of certain towns and cities\n",
    "Most municipalities have only one official name adopted by the province or territory where the place is located, and this name should not be translated. However, certain municipalities have official names in both French and English, for example: Grand Falls and Grand-Sault in New Brunswick, and Greater Sudbury and Grand Sudbury in Ontario.\n",
    "\n",
    "Names of undersea features\n",
    "Some undersea features have an English and a French name approved by the Advisory Committee on Undersea Feature Names, one of the Geographical Names Board of Canada’s advisory committees.\n",
    "\n",
    "Use of geographical names in Government of Canada documents\n",
    "The principle governing the use of geographical names on maps and in documents published by the Government of Canada is to use the official form(s) of geographical names as adopted by the federal, provincial or territorial authorities of the Geographical Names Board of Canada.\n",
    "\n",
    "Names of inhabited places retain their official form in English and French texts.\n",
    "\n",
    "The use of names of pan-Canadian significance must be respected on both maps and in texts.\n",
    "\n",
    "In text documents, it is permissible to translate the generic portion of name of a geographical feature. The generic portion of the name indicates the nature of the entity (for example the word “River” in the name “Bow River”). However, the specific portion of name does not get translated (for example, in the name of “Bow River”, the specific is the word “Bow”). In this example, the name “Bow River” could be translated as “rivière Bow” in a text.\n",
    "\n",
    "You will find the list of English generics and their French equivalents in the document “Glossary of generic terms in Canada’s geographical names” published by the Translation Bureau of Public Services and Procurement Canada.\n",
    "\n",
    "For more information concerning the rules for translating geographical names, please visit the Language Portal of Canada, a Translation Bureau initiative.\n",
    "\n",
    "\"\"\"\n"
   ],
   "id": "8f80cb0de7e41614"
  },
  {
   "metadata": {},
   "cell_type": "markdown",
   "source": "# Species Translations",
   "id": "d19d2d38c265d3cc"
  },
  {
   "metadata": {
    "ExecuteTime": {
     "end_time": "2025-07-08T15:12:52.823760Z",
     "start_time": "2025-07-08T15:12:52.795568Z"
    }
   },
   "cell_type": "code",
   "source": [
    "species_translations = {\n",
    "    \n",
    "}"
   ],
   "id": "a86170de597adc6e",
   "outputs": [],
   "execution_count": 24
  },
  {
   "metadata": {},
   "cell_type": "markdown",
   "source": "# Preferential Translations",
   "id": "34b379d8ab5dc75a"
  },
  {
   "metadata": {},
   "cell_type": "code",
   "outputs": [],
   "execution_count": null,
   "source": [
    "preferential_translations = {\n",
    "    \n",
    "}"
   ],
   "id": "7ac6c0733329e98e"
  },
  {
   "metadata": {},
   "cell_type": "markdown",
   "source": "# Translation Quality Checker",
   "id": "2e7d4aa1c553aff3"
  },
  {
   "metadata": {},
   "cell_type": "code",
   "outputs": [],
   "execution_count": null,
   "source": [
    "# isolate any pre-translated instances from above lists \n",
    "# match to translated version \n",
    "# compare vs expected translation\n",
    "# [optional] find-and-replace to clean up translation"
   ],
   "id": "828ae6d8042edd44"
  },
  {
   "metadata": {},
   "cell_type": "code",
   "outputs": [],
   "execution_count": null,
   "source": "",
   "id": "5c2a5884b2e9480"
  }
 ],
 "metadata": {
  "kernelspec": {
   "display_name": "Python 3",
   "language": "python",
   "name": "python3"
  },
  "language_info": {
   "codemirror_mode": {
    "name": "ipython",
    "version": 2
   },
   "file_extension": ".py",
   "mimetype": "text/x-python",
   "name": "python",
   "nbconvert_exporter": "python",
   "pygments_lexer": "ipython2",
   "version": "2.7.6"
  }
 },
 "nbformat": 4,
 "nbformat_minor": 5
}
