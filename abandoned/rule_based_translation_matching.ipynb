{
 "cells": [
  {
   "cell_type": "code",
   "id": "initial_id",
   "metadata": {
    "collapsed": true,
    "ExecuteTime": {
     "end_time": "2025-07-14T11:02:59.257734Z",
     "start_time": "2025-07-14T11:02:58.384315Z"
    }
   },
   "source": [
    "import pickle\n",
    "import io\n",
    "import json\n",
    "import pandas as pd\n",
    "import pdfplumber\n",
    "import re\n",
    "import requests\n",
    "import spacy\n",
    "import zipfile\n",
    "\n",
    "NLPS = {'en': spacy.load(\"en_core_web_sm\"),\n",
    "        'fr': spacy.load(\"fr_core_news_sm\")}\n"
   ],
   "outputs": [],
   "execution_count": 4
  },
  {
   "metadata": {},
   "cell_type": "markdown",
   "source": [
    "# NOTES\n",
    "* species_translations were found at the following url:\n",
    "    * https://www.dfo-mpo.gc.ca/species-especes/identify-eng.html\n",
    "    * this data is super messy, with many errors and a small number of species\n",
    "    * this source of species translations has been abandoned\n",
    "        * the initial commit demonstrates these data quality issues  \n",
    "\n",
    "# Location Translations\n",
    "https://natural-resources.canada.ca/maps-tools-publications/maps/geographical-names-canada/translating-geographical-names\n",
    "\n",
    "Translating Geographical Names\n",
    "Generally in Canada, place names have one official language form: the name approved by a provincial or territorial naming authority. Exceptions to the rule are:\n",
    "\n",
    "Geographical names of ‘pan-Canadian’ significance\n",
    "Names of pan-Canadian significance have customary and well-known forms in both English and French. The list was established by the Treasury Board of Canada, and is maintained by the Geographical Names Board of Canada. The geographical names on this list are shown in both English and French on maps and in documents published by the Government of Canada. See the list of geographical names of pan-Canadian significance.\n",
    "\n",
    "Names of national parks and national historic sites\n",
    "National parks and national historic sites established by Parks Canada have an official name in English and in French.\n",
    "\n",
    "Names of certain towns and cities\n",
    "Most municipalities have only one official name adopted by the province or territory where the place is located, and this name should not be translated. However, certain municipalities have official names in both French and English, for example: Grand Falls and Grand-Sault in New Brunswick, and Greater Sudbury and Grand Sudbury in Ontario.\n",
    "\n",
    "Names of undersea features\n",
    "Some undersea features have an English and a French name approved by the Advisory Committee on Undersea Feature Names, one of the Geographical Names Board of Canada’s advisory committees.\n",
    "\n",
    "Use of geographical names in Government of Canada documents\n",
    "The principle governing the use of geographical names on maps and in documents published by the Government of Canada is to use the official form(s) of geographical names as adopted by the federal, provincial or territorial authorities of the Geographical Names Board of Canada.\n",
    "\n",
    "Names of inhabited places retain their official form in English and French texts.\n",
    "\n",
    "The use of names of pan-Canadian significance must be respected on both maps and in texts.\n",
    "\n",
    "In text documents, it is permissible to translate the generic portion of name of a geographical feature. The generic portion of the name indicates the nature of the entity (for example the word “River” in the name “Bow River”). However, the specific portion of name does not get translated (for example, in the name of “Bow River”, the specific is the word “Bow”). In this example, the name “Bow River” could be translated as “rivière Bow” in a text.\n",
    "\n",
    "You will find the list of English generics and their French equivalents in the document “Glossary of generic terms in Canada’s geographical names” published by the Translation Bureau of Public Services and Procurement Canada.\n",
    "\n",
    "For more information concerning the rules for translating geographical names, please visit the Language Portal of Canada, a Translation Bureau initiative.\n",
    "        "
   ],
   "id": "c7d575ba66a22e50"
  },
  {
   "metadata": {},
   "cell_type": "markdown",
   "source": [
    "# Import Data\n",
    "## build the dictionaries\n",
    "(or load them if they exist)"
   ],
   "id": "4fef6f51727b0587"
  },
  {
   "metadata": {
    "ExecuteTime": {
     "end_time": "2025-07-14T11:54:10.547335Z",
     "start_time": "2025-07-14T11:54:10.518230Z"
    }
   },
   "cell_type": "code",
   "source": [
    "# pan canadian names\n",
    "with open(\"pan_canadian_names.json\", encoding=\"utf-8\") as f:\n",
    "    temp_names = json.load(f) \n",
    "\n",
    "pan_canadian_names = temp_names.copy()\n",
    "\n",
    "for k, v in temp_names.items():\n",
    "    k_lst = k.split(\",\")\n",
    "    v_lst = v.split(\",\")\n",
    "    if len(k_lst) == 2 and len(v_lst) == 2:\n",
    "        k_swap = f\"{k_lst[1]} {k_lst[0]}\".strip()\n",
    "        if k_swap in pan_canadian_names:\n",
    "            print(f\"ERROR: {k_swap} already in pan_canadian_names\")\n",
    "        else:\n",
    "            v_swap = f\"{v_lst[1]} {v_lst[0]}\".strip()\n",
    "            pan_canadian_names[k_swap] = v_swap\n",
    "    elif len(k_lst) > 2 or len(v_lst) > 2:\n",
    "        print(f\"ERROR: {k} or {v} have too many commas\")\n",
    "        \n",
    "# parks canada names\n",
    "parks_canada_place_names = pd.read_csv(\"vw_Place_Names_Noms_Lieux_APCA_V2_FGP.csv\")\n",
    "parks_canada_place_names = parks_canada_place_names.loc[(parks_canada_place_names[\"Name_e\"].notna()) & (parks_canada_place_names[\"Nom_f\"].notna()), [\"Name_e\", \"Nom_f\"]]\n",
    "parks_canada_place_names = dict(zip(parks_canada_place_names['Name_e'], parks_canada_place_names['Nom_f']))\n",
    "\n",
    "# natural resources canada geographical names\n",
    "\n"
   ],
   "id": "8eb642fe66d2612b",
   "outputs": [],
   "execution_count": 33
  },
  {
   "metadata": {
    "ExecuteTime": {
     "end_time": "2025-07-14T12:12:02.245153Z",
     "start_time": "2025-07-14T12:12:01.237940Z"
    }
   },
   "cell_type": "code",
   "source": "nrc_geo_names = pd.read_csv(\"cgn_canada_csv_eng.csv\", low_memory=False)\n",
   "id": "92a1ca4da08c5885",
   "outputs": [],
   "execution_count": 39
  },
  {
   "metadata": {
    "ExecuteTime": {
     "end_time": "2025-07-14T12:12:36.527108Z",
     "start_time": "2025-07-14T12:12:36.512926Z"
    }
   },
   "cell_type": "code",
   "source": "nrc_geo_names.columns",
   "id": "1f748f8ef910df0d",
   "outputs": [
    {
     "data": {
      "text/plain": [
       "Index(['CGNDB ID', 'Geographical Name', 'ISO Language Code', 'Language',\n",
       "       'Syllabic Form', 'Generic Term', 'Generic Category', 'Concise Code',\n",
       "       'Toponymic Feature ID', 'Latitude', 'Longitude', 'Location',\n",
       "       'Province - Territory', 'Relevance at Scale', 'Decision Date',\n",
       "       'Source'],\n",
       "      dtype='object')"
      ]
     },
     "execution_count": 41,
     "metadata": {},
     "output_type": "execute_result"
    }
   ],
   "execution_count": 41
  },
  {
   "metadata": {
    "ExecuteTime": {
     "end_time": "2025-07-14T12:38:36.563247Z",
     "start_time": "2025-07-14T12:38:36.540948Z"
    }
   },
   "cell_type": "code",
   "source": [
    "df = nrc_geo_names[['CGNDB ID', 'Toponymic Feature ID', 'Geographical Name', 'ISO Language Code']]\n",
    "df.columns = [\"id\", \"feature_id\", \"name\", \"lang\"]"
   ],
   "id": "ec0b2ecf9af61f65",
   "outputs": [],
   "execution_count": 81
  },
  {
   "metadata": {
    "ExecuteTime": {
     "end_time": "2025-07-14T12:37:58.528914Z",
     "start_time": "2025-07-14T12:37:58.275460Z"
    }
   },
   "cell_type": "code",
   "source": "df.groupby(\"id\").count().describe()",
   "id": "5bb02f7041b4e9ee",
   "outputs": [
    {
     "data": {
      "text/plain": [
       "       feature_id      name      lang\n",
       "count    359360.0  359360.0  359360.0\n",
       "mean          1.0       1.0       1.0\n",
       "std           0.0       0.0       0.0\n",
       "min           1.0       1.0       1.0\n",
       "25%           1.0       1.0       1.0\n",
       "50%           1.0       1.0       1.0\n",
       "75%           1.0       1.0       1.0\n",
       "max           1.0       1.0       1.0"
      ],
      "text/html": [
       "<div>\n",
       "<style scoped>\n",
       "    .dataframe tbody tr th:only-of-type {\n",
       "        vertical-align: middle;\n",
       "    }\n",
       "\n",
       "    .dataframe tbody tr th {\n",
       "        vertical-align: top;\n",
       "    }\n",
       "\n",
       "    .dataframe thead th {\n",
       "        text-align: right;\n",
       "    }\n",
       "</style>\n",
       "<table border=\"1\" class=\"dataframe\">\n",
       "  <thead>\n",
       "    <tr style=\"text-align: right;\">\n",
       "      <th></th>\n",
       "      <th>feature_id</th>\n",
       "      <th>name</th>\n",
       "      <th>lang</th>\n",
       "    </tr>\n",
       "  </thead>\n",
       "  <tbody>\n",
       "    <tr>\n",
       "      <th>count</th>\n",
       "      <td>359360.0</td>\n",
       "      <td>359360.0</td>\n",
       "      <td>359360.0</td>\n",
       "    </tr>\n",
       "    <tr>\n",
       "      <th>mean</th>\n",
       "      <td>1.0</td>\n",
       "      <td>1.0</td>\n",
       "      <td>1.0</td>\n",
       "    </tr>\n",
       "    <tr>\n",
       "      <th>std</th>\n",
       "      <td>0.0</td>\n",
       "      <td>0.0</td>\n",
       "      <td>0.0</td>\n",
       "    </tr>\n",
       "    <tr>\n",
       "      <th>min</th>\n",
       "      <td>1.0</td>\n",
       "      <td>1.0</td>\n",
       "      <td>1.0</td>\n",
       "    </tr>\n",
       "    <tr>\n",
       "      <th>25%</th>\n",
       "      <td>1.0</td>\n",
       "      <td>1.0</td>\n",
       "      <td>1.0</td>\n",
       "    </tr>\n",
       "    <tr>\n",
       "      <th>50%</th>\n",
       "      <td>1.0</td>\n",
       "      <td>1.0</td>\n",
       "      <td>1.0</td>\n",
       "    </tr>\n",
       "    <tr>\n",
       "      <th>75%</th>\n",
       "      <td>1.0</td>\n",
       "      <td>1.0</td>\n",
       "      <td>1.0</td>\n",
       "    </tr>\n",
       "    <tr>\n",
       "      <th>max</th>\n",
       "      <td>1.0</td>\n",
       "      <td>1.0</td>\n",
       "      <td>1.0</td>\n",
       "    </tr>\n",
       "  </tbody>\n",
       "</table>\n",
       "</div>"
      ]
     },
     "execution_count": 75,
     "metadata": {},
     "output_type": "execute_result"
    }
   ],
   "execution_count": 75
  },
  {
   "metadata": {
    "ExecuteTime": {
     "end_time": "2025-07-14T12:37:59.757705Z",
     "start_time": "2025-07-14T12:37:59.465529Z"
    }
   },
   "cell_type": "code",
   "source": "df.groupby(\"feature_id\").count().describe()",
   "id": "3ce65d2d04aaf4b9",
   "outputs": [
    {
     "data": {
      "text/plain": [
       "                  id           name           lang\n",
       "count  356746.000000  356746.000000  356746.000000\n",
       "mean        1.007327       1.007327       1.007327\n",
       "std         0.091716       0.091716       0.091716\n",
       "min         1.000000       1.000000       1.000000\n",
       "25%         1.000000       1.000000       1.000000\n",
       "50%         1.000000       1.000000       1.000000\n",
       "75%         1.000000       1.000000       1.000000\n",
       "max        10.000000      10.000000      10.000000"
      ],
      "text/html": [
       "<div>\n",
       "<style scoped>\n",
       "    .dataframe tbody tr th:only-of-type {\n",
       "        vertical-align: middle;\n",
       "    }\n",
       "\n",
       "    .dataframe tbody tr th {\n",
       "        vertical-align: top;\n",
       "    }\n",
       "\n",
       "    .dataframe thead th {\n",
       "        text-align: right;\n",
       "    }\n",
       "</style>\n",
       "<table border=\"1\" class=\"dataframe\">\n",
       "  <thead>\n",
       "    <tr style=\"text-align: right;\">\n",
       "      <th></th>\n",
       "      <th>id</th>\n",
       "      <th>name</th>\n",
       "      <th>lang</th>\n",
       "    </tr>\n",
       "  </thead>\n",
       "  <tbody>\n",
       "    <tr>\n",
       "      <th>count</th>\n",
       "      <td>356746.000000</td>\n",
       "      <td>356746.000000</td>\n",
       "      <td>356746.000000</td>\n",
       "    </tr>\n",
       "    <tr>\n",
       "      <th>mean</th>\n",
       "      <td>1.007327</td>\n",
       "      <td>1.007327</td>\n",
       "      <td>1.007327</td>\n",
       "    </tr>\n",
       "    <tr>\n",
       "      <th>std</th>\n",
       "      <td>0.091716</td>\n",
       "      <td>0.091716</td>\n",
       "      <td>0.091716</td>\n",
       "    </tr>\n",
       "    <tr>\n",
       "      <th>min</th>\n",
       "      <td>1.000000</td>\n",
       "      <td>1.000000</td>\n",
       "      <td>1.000000</td>\n",
       "    </tr>\n",
       "    <tr>\n",
       "      <th>25%</th>\n",
       "      <td>1.000000</td>\n",
       "      <td>1.000000</td>\n",
       "      <td>1.000000</td>\n",
       "    </tr>\n",
       "    <tr>\n",
       "      <th>50%</th>\n",
       "      <td>1.000000</td>\n",
       "      <td>1.000000</td>\n",
       "      <td>1.000000</td>\n",
       "    </tr>\n",
       "    <tr>\n",
       "      <th>75%</th>\n",
       "      <td>1.000000</td>\n",
       "      <td>1.000000</td>\n",
       "      <td>1.000000</td>\n",
       "    </tr>\n",
       "    <tr>\n",
       "      <th>max</th>\n",
       "      <td>10.000000</td>\n",
       "      <td>10.000000</td>\n",
       "      <td>10.000000</td>\n",
       "    </tr>\n",
       "  </tbody>\n",
       "</table>\n",
       "</div>"
      ]
     },
     "execution_count": 76,
     "metadata": {},
     "output_type": "execute_result"
    }
   ],
   "execution_count": 76
  },
  {
   "metadata": {
    "ExecuteTime": {
     "end_time": "2025-07-14T12:42:03.312030Z",
     "start_time": "2025-07-14T12:42:02.710001Z"
    }
   },
   "cell_type": "code",
   "source": [
    "df = df[df.lang.isin(['und', 'eng', 'fra', 'fre'])].sort_values('feature_id')\n",
    "df = df.drop_duplicates(subset=[\"feature_id\", \"name\"], keep=\"first\")\n",
    "df.loc[:, 'n_feature_id'] = df['feature_id'].map(df['feature_id'].value_counts())"
   ],
   "id": "7030ec332c788b7b",
   "outputs": [],
   "execution_count": 86
  },
  {
   "metadata": {
    "ExecuteTime": {
     "end_time": "2025-07-14T12:43:54.183300Z",
     "start_time": "2025-07-14T12:43:54.169337Z"
    }
   },
   "cell_type": "code",
   "source": "df[df.n_feature_id > 1]",
   "id": "479bd4e66500b9ee",
   "outputs": [
    {
     "data": {
      "text/plain": [
       "           id                        feature_id  \\\n",
       "199703  ERFGA  0238e957ba2511d892e2080020a0f4c9   \n",
       "44857   ERFFZ  0238e957ba2511d892e2080020a0f4c9   \n",
       "199770  FEZYI  03efd245ba2e11d892e2080020a0f4c9   \n",
       "223630  FEZYH  03efd245ba2e11d892e2080020a0f4c9   \n",
       "35453   JCQPY  04a2b850d05511d892e2080020a0f4c9   \n",
       "...       ...                               ...   \n",
       "255824  FEZYF  fbf0dad4ba2d11d892e2080020a0f4c9   \n",
       "199557  DBEDA  ff972ee0ba1f11d892e2080020a0f4c9   \n",
       "247040  DBECX  ff972ee0ba1f11d892e2080020a0f4c9   \n",
       "39239   ESFQU  ffeddd36ba2311d892e2080020a0f4c9   \n",
       "16324   ESFQV  ffeddd36ba2311d892e2080020a0f4c9   \n",
       "\n",
       "                                                     name lang  n_feature_id  \n",
       "199703  Lieu historique national du Canada du Canal-de...  und             2  \n",
       "44857      Chambly Canal National Historic Site of Canada  und             2  \n",
       "199770  Lieu historique national du Canada du Phare-de...  und             2  \n",
       "223630  Mississauga Point Lighthouse National Historic...  und             2  \n",
       "35453                       Burges and James Gadsden Park  und             2  \n",
       "...                                                   ...  ...           ...  \n",
       "255824  Peterborough Lift Lock National Historic Site ...  und             2  \n",
       "199557                                         Lieu Oxbow  und             2  \n",
       "247040                                         Oxbow Site  und             2  \n",
       "39239   Canadian Forces Base/Area Support Unit Valcartier  und             2  \n",
       "16324   Base des Forces canadiennes/unité de soutien d...  und             2  \n",
       "\n",
       "[2045 rows x 5 columns]"
      ],
      "text/html": [
       "<div>\n",
       "<style scoped>\n",
       "    .dataframe tbody tr th:only-of-type {\n",
       "        vertical-align: middle;\n",
       "    }\n",
       "\n",
       "    .dataframe tbody tr th {\n",
       "        vertical-align: top;\n",
       "    }\n",
       "\n",
       "    .dataframe thead th {\n",
       "        text-align: right;\n",
       "    }\n",
       "</style>\n",
       "<table border=\"1\" class=\"dataframe\">\n",
       "  <thead>\n",
       "    <tr style=\"text-align: right;\">\n",
       "      <th></th>\n",
       "      <th>id</th>\n",
       "      <th>feature_id</th>\n",
       "      <th>name</th>\n",
       "      <th>lang</th>\n",
       "      <th>n_feature_id</th>\n",
       "    </tr>\n",
       "  </thead>\n",
       "  <tbody>\n",
       "    <tr>\n",
       "      <th>199703</th>\n",
       "      <td>ERFGA</td>\n",
       "      <td>0238e957ba2511d892e2080020a0f4c9</td>\n",
       "      <td>Lieu historique national du Canada du Canal-de...</td>\n",
       "      <td>und</td>\n",
       "      <td>2</td>\n",
       "    </tr>\n",
       "    <tr>\n",
       "      <th>44857</th>\n",
       "      <td>ERFFZ</td>\n",
       "      <td>0238e957ba2511d892e2080020a0f4c9</td>\n",
       "      <td>Chambly Canal National Historic Site of Canada</td>\n",
       "      <td>und</td>\n",
       "      <td>2</td>\n",
       "    </tr>\n",
       "    <tr>\n",
       "      <th>199770</th>\n",
       "      <td>FEZYI</td>\n",
       "      <td>03efd245ba2e11d892e2080020a0f4c9</td>\n",
       "      <td>Lieu historique national du Canada du Phare-de...</td>\n",
       "      <td>und</td>\n",
       "      <td>2</td>\n",
       "    </tr>\n",
       "    <tr>\n",
       "      <th>223630</th>\n",
       "      <td>FEZYH</td>\n",
       "      <td>03efd245ba2e11d892e2080020a0f4c9</td>\n",
       "      <td>Mississauga Point Lighthouse National Historic...</td>\n",
       "      <td>und</td>\n",
       "      <td>2</td>\n",
       "    </tr>\n",
       "    <tr>\n",
       "      <th>35453</th>\n",
       "      <td>JCQPY</td>\n",
       "      <td>04a2b850d05511d892e2080020a0f4c9</td>\n",
       "      <td>Burges and James Gadsden Park</td>\n",
       "      <td>und</td>\n",
       "      <td>2</td>\n",
       "    </tr>\n",
       "    <tr>\n",
       "      <th>...</th>\n",
       "      <td>...</td>\n",
       "      <td>...</td>\n",
       "      <td>...</td>\n",
       "      <td>...</td>\n",
       "      <td>...</td>\n",
       "    </tr>\n",
       "    <tr>\n",
       "      <th>255824</th>\n",
       "      <td>FEZYF</td>\n",
       "      <td>fbf0dad4ba2d11d892e2080020a0f4c9</td>\n",
       "      <td>Peterborough Lift Lock National Historic Site ...</td>\n",
       "      <td>und</td>\n",
       "      <td>2</td>\n",
       "    </tr>\n",
       "    <tr>\n",
       "      <th>199557</th>\n",
       "      <td>DBEDA</td>\n",
       "      <td>ff972ee0ba1f11d892e2080020a0f4c9</td>\n",
       "      <td>Lieu Oxbow</td>\n",
       "      <td>und</td>\n",
       "      <td>2</td>\n",
       "    </tr>\n",
       "    <tr>\n",
       "      <th>247040</th>\n",
       "      <td>DBECX</td>\n",
       "      <td>ff972ee0ba1f11d892e2080020a0f4c9</td>\n",
       "      <td>Oxbow Site</td>\n",
       "      <td>und</td>\n",
       "      <td>2</td>\n",
       "    </tr>\n",
       "    <tr>\n",
       "      <th>39239</th>\n",
       "      <td>ESFQU</td>\n",
       "      <td>ffeddd36ba2311d892e2080020a0f4c9</td>\n",
       "      <td>Canadian Forces Base/Area Support Unit Valcartier</td>\n",
       "      <td>und</td>\n",
       "      <td>2</td>\n",
       "    </tr>\n",
       "    <tr>\n",
       "      <th>16324</th>\n",
       "      <td>ESFQV</td>\n",
       "      <td>ffeddd36ba2311d892e2080020a0f4c9</td>\n",
       "      <td>Base des Forces canadiennes/unité de soutien d...</td>\n",
       "      <td>und</td>\n",
       "      <td>2</td>\n",
       "    </tr>\n",
       "  </tbody>\n",
       "</table>\n",
       "<p>2045 rows × 5 columns</p>\n",
       "</div>"
      ]
     },
     "execution_count": 89,
     "metadata": {},
     "output_type": "execute_result"
    }
   ],
   "execution_count": 89
  },
  {
   "metadata": {
    "ExecuteTime": {
     "end_time": "2025-07-14T12:58:09.330535Z",
     "start_time": "2025-07-14T12:58:09.304913Z"
    }
   },
   "cell_type": "code",
   "source": [
    "# TODO: how can i match languages? do i need to classify them?\n",
    "nrc_geo_names.iloc[[199703, 44857]].T"
   ],
   "id": "47bf45d6889d51f6",
   "outputs": [
    {
     "data": {
      "text/plain": [
       "                                                                 199703  \\\n",
       "CGNDB ID                                                          ERFGA   \n",
       "Geographical Name     Lieu historique national du Canada du Canal-de...   \n",
       "ISO Language Code                                                   und   \n",
       "Language                                                   Undetermined   \n",
       "Syllabic Form                                                       NaN   \n",
       "Generic Term                                                      Canal   \n",
       "Generic Category                                    Constructed Feature   \n",
       "Concise Code                                                       PARK   \n",
       "Toponymic Feature ID                   0238e957ba2511d892e2080020a0f4c9   \n",
       "Latitude                                                      45.377222   \n",
       "Longitude                                                      -73.2575   \n",
       "Location                               Carignan; La Vallée-du-Richelieu   \n",
       "Province - Territory                                             Quebec   \n",
       "Relevance at Scale                                              1000000   \n",
       "Decision Date                                                2001-01-12   \n",
       "Source                                                     Parks Canada   \n",
       "\n",
       "                                                              44857   \n",
       "CGNDB ID                                                       ERFFZ  \n",
       "Geographical Name     Chambly Canal National Historic Site of Canada  \n",
       "ISO Language Code                                                und  \n",
       "Language                                                Undetermined  \n",
       "Syllabic Form                                                    NaN  \n",
       "Generic Term                                                   Canal  \n",
       "Generic Category                                 Constructed Feature  \n",
       "Concise Code                                                    PARK  \n",
       "Toponymic Feature ID                0238e957ba2511d892e2080020a0f4c9  \n",
       "Latitude                                                   45.377222  \n",
       "Longitude                                                   -73.2575  \n",
       "Location                             Carignan; La Valée-du-Richelieu  \n",
       "Province - Territory                                          Quebec  \n",
       "Relevance at Scale                                           1000000  \n",
       "Decision Date                                             2001-01-12  \n",
       "Source                                                  Parks Canada  "
      ],
      "text/html": [
       "<div>\n",
       "<style scoped>\n",
       "    .dataframe tbody tr th:only-of-type {\n",
       "        vertical-align: middle;\n",
       "    }\n",
       "\n",
       "    .dataframe tbody tr th {\n",
       "        vertical-align: top;\n",
       "    }\n",
       "\n",
       "    .dataframe thead th {\n",
       "        text-align: right;\n",
       "    }\n",
       "</style>\n",
       "<table border=\"1\" class=\"dataframe\">\n",
       "  <thead>\n",
       "    <tr style=\"text-align: right;\">\n",
       "      <th></th>\n",
       "      <th>199703</th>\n",
       "      <th>44857</th>\n",
       "    </tr>\n",
       "  </thead>\n",
       "  <tbody>\n",
       "    <tr>\n",
       "      <th>CGNDB ID</th>\n",
       "      <td>ERFGA</td>\n",
       "      <td>ERFFZ</td>\n",
       "    </tr>\n",
       "    <tr>\n",
       "      <th>Geographical Name</th>\n",
       "      <td>Lieu historique national du Canada du Canal-de...</td>\n",
       "      <td>Chambly Canal National Historic Site of Canada</td>\n",
       "    </tr>\n",
       "    <tr>\n",
       "      <th>ISO Language Code</th>\n",
       "      <td>und</td>\n",
       "      <td>und</td>\n",
       "    </tr>\n",
       "    <tr>\n",
       "      <th>Language</th>\n",
       "      <td>Undetermined</td>\n",
       "      <td>Undetermined</td>\n",
       "    </tr>\n",
       "    <tr>\n",
       "      <th>Syllabic Form</th>\n",
       "      <td>NaN</td>\n",
       "      <td>NaN</td>\n",
       "    </tr>\n",
       "    <tr>\n",
       "      <th>Generic Term</th>\n",
       "      <td>Canal</td>\n",
       "      <td>Canal</td>\n",
       "    </tr>\n",
       "    <tr>\n",
       "      <th>Generic Category</th>\n",
       "      <td>Constructed Feature</td>\n",
       "      <td>Constructed Feature</td>\n",
       "    </tr>\n",
       "    <tr>\n",
       "      <th>Concise Code</th>\n",
       "      <td>PARK</td>\n",
       "      <td>PARK</td>\n",
       "    </tr>\n",
       "    <tr>\n",
       "      <th>Toponymic Feature ID</th>\n",
       "      <td>0238e957ba2511d892e2080020a0f4c9</td>\n",
       "      <td>0238e957ba2511d892e2080020a0f4c9</td>\n",
       "    </tr>\n",
       "    <tr>\n",
       "      <th>Latitude</th>\n",
       "      <td>45.377222</td>\n",
       "      <td>45.377222</td>\n",
       "    </tr>\n",
       "    <tr>\n",
       "      <th>Longitude</th>\n",
       "      <td>-73.2575</td>\n",
       "      <td>-73.2575</td>\n",
       "    </tr>\n",
       "    <tr>\n",
       "      <th>Location</th>\n",
       "      <td>Carignan; La Vallée-du-Richelieu</td>\n",
       "      <td>Carignan; La Valée-du-Richelieu</td>\n",
       "    </tr>\n",
       "    <tr>\n",
       "      <th>Province - Territory</th>\n",
       "      <td>Quebec</td>\n",
       "      <td>Quebec</td>\n",
       "    </tr>\n",
       "    <tr>\n",
       "      <th>Relevance at Scale</th>\n",
       "      <td>1000000</td>\n",
       "      <td>1000000</td>\n",
       "    </tr>\n",
       "    <tr>\n",
       "      <th>Decision Date</th>\n",
       "      <td>2001-01-12</td>\n",
       "      <td>2001-01-12</td>\n",
       "    </tr>\n",
       "    <tr>\n",
       "      <th>Source</th>\n",
       "      <td>Parks Canada</td>\n",
       "      <td>Parks Canada</td>\n",
       "    </tr>\n",
       "  </tbody>\n",
       "</table>\n",
       "</div>"
      ]
     },
     "execution_count": 92,
     "metadata": {},
     "output_type": "execute_result"
    }
   ],
   "execution_count": 92
  },
  {
   "metadata": {},
   "cell_type": "code",
   "outputs": [],
   "execution_count": null,
   "source": "",
   "id": "3dfe1465e6bf301c"
  },
  {
   "metadata": {},
   "cell_type": "code",
   "outputs": [],
   "execution_count": null,
   "source": "",
   "id": "933e2f7da64d2b5b"
  },
  {
   "metadata": {
    "ExecuteTime": {
     "end_time": "2025-07-14T11:53:30.852374Z",
     "start_time": "2025-07-14T11:53:30.825399Z"
    }
   },
   "cell_type": "code",
   "source": [
    "# save dictionaries first run\n",
    "\n",
    "file_path = 'BILINGUAL.pickle'\n",
    "\n",
    "try:\n",
    "    with open(file_path, 'rb') as file:\n",
    "        BILINGUAL = pickle.load(file)\n",
    "except FileNotFoundError:\n",
    "    BILINGUAL = None\n",
    "   \n",
    "if BILINGUAL is None:\n",
    "    BILINGUAL = {**pan_canadian_names, **parks_canada_place_names, **nrc_geo_names}\n",
    "    \n",
    "    with open(file_path, 'wb') as file:\n",
    "        pickle.dump(BILINGUAL, file)"
   ],
   "id": "35a7762bce389e29",
   "outputs": [],
   "execution_count": 31
  },
  {
   "metadata": {
    "ExecuteTime": {
     "end_time": "2025-07-14T12:01:33.888067Z",
     "start_time": "2025-07-14T12:01:33.879130Z"
    }
   },
   "cell_type": "code",
   "source": "parks_canada_place_names['Sable Island']",
   "id": "734a56eda78c965c",
   "outputs": [
    {
     "data": {
      "text/plain": [
       "'Sable Island'"
      ]
     },
     "execution_count": 35,
     "metadata": {},
     "output_type": "execute_result"
    }
   ],
   "execution_count": 35
  },
  {
   "metadata": {},
   "cell_type": "code",
   "outputs": [],
   "execution_count": null,
   "source": "",
   "id": "5559a6bd8a43ed7b"
  },
  {
   "metadata": {},
   "cell_type": "code",
   "outputs": [],
   "execution_count": null,
   "source": "\n",
   "id": "8f14903d2bb5b6dd"
  },
  {
   "metadata": {},
   "cell_type": "code",
   "source": "\n",
   "id": "5d1cb26d475a1431",
   "outputs": [],
   "execution_count": null
  },
  {
   "metadata": {},
   "cell_type": "code",
   "source": [
    "# glossary parse\n",
    "\n",
    "def parse_glossary_en(path):\n",
    "    lines = []\n",
    "    with pdfplumber.open(path) as pdf:\n",
    "        for pg in pdf.pages:\n",
    "            lines += pg.extract_text().splitlines()\n",
    "\n",
    "    out, n, i = {}, len(lines), 0\n",
    "    while i < n:\n",
    "        if lines[i].strip() == \"DES\":\n",
    "            word = lines[i-1].strip()\n",
    "            if re.fullmatch(r\"[A-Za-z' -]+\", word):\n",
    "                j = i + 1\n",
    "                while j < n and not lines[j].lstrip().startswith(\"EQ\"):\n",
    "                    j += 1\n",
    "                if j < n:\n",
    "                    fr = re.sub(r\"\\[|\\]\", \"\", lines[j].split(\"EQ\", 1)[1]).strip()\n",
    "                    fr = re.split(r\"\\s*\\(.*?\\)\", fr)[0].strip()\n",
    "                    if fr:\n",
    "                        out[word.lower()] = fr.lower()\n",
    "                i = j\n",
    "        i += 1\n",
    "    return out\n"
   ],
   "id": "f6489ad1fe847ae6",
   "outputs": [],
   "execution_count": null
  },
  {
   "metadata": {},
   "cell_type": "code",
   "source": [
    "# save glossary dict first run\n",
    "\n",
    "file_path = 'GEN_EN_FR.pickle'\n",
    "\n",
    "try:\n",
    "    with open(file_path, 'rb') as file:\n",
    "        GEN_EN_FR = pickle.load(file)\n",
    "except FileNotFoundError:\n",
    "    GEN_EN_FR = None\n",
    "   \n",
    "if GEN_EN_FR is None:\n",
    "    glossary_pdf = \"Glossary of Generic Terms in Canada's Geographical Names S52-2-176-2012.pdf\"\n",
    "    GEN_EN_FR = parse_glossary_en(glossary_pdf)\n",
    "    \n",
    "    with open(file_path, 'wb') as file:\n",
    "        pickle.dump(GEN_EN_FR, file)\n",
    "\n",
    "GEN_FR_EN = {v: k for k, v in GEN_EN_FR.items()}"
   ],
   "id": "4666b90a3850d984",
   "outputs": [],
   "execution_count": null
  },
  {
   "metadata": {},
   "cell_type": "markdown",
   "source": [
    "\n",
    " "
   ],
   "id": "8221327b136da8d6"
  },
  {
   "metadata": {
    "ExecuteTime": {
     "end_time": "2025-07-14T11:56:19.807776Z",
     "start_time": "2025-07-14T11:56:19.801144Z"
    }
   },
   "cell_type": "code",
   "source": "\n",
   "id": "8f80cb0de7e41614",
   "outputs": [],
   "execution_count": 34
  },
  {
   "metadata": {},
   "cell_type": "markdown",
   "source": "## translation and verification",
   "id": "fd51eb89f0cac26e"
  },
  {
   "metadata": {},
   "cell_type": "code",
   "source": [
    "LABELS = (\"GPE\", \"LOC\", \"FAC\")\n",
    "# GPE - Geo-political entity (jurisdictions with governments)\n",
    "# LOC - Other physical locations (not GPEs)\n",
    "# FAC - Man-made facilities or infrastructure\n",
    "\n",
    "def _split(name, mapping):\n",
    "    parts = name.split()\n",
    "    for i in range(1, len(parts) + 1):\n",
    "        gen = \" \".join(parts[-i:])\n",
    "        if gen in mapping:\n",
    "            return \" \".join(parts[:-i]), gen\n",
    "    return name, \"\"\n",
    "\n",
    "def translate(name, target):\n",
    "    if target == \"fr\" and name in BILINGUAL:\n",
    "        return BILINGUAL[name]\n",
    "    if target == \"en\" and name in {v: k for k, v in BILINGUAL.items()}:\n",
    "        return {v: k for k, v in BILINGUAL.items()}[name]\n",
    "    if target == \"fr\":\n",
    "        spec, gen = _split(name, GEN_EN_FR)\n",
    "        return f\"{GEN_EN_FR.get(gen, gen)} {spec}\".strip()\n",
    "    spec, gen = _split(name, GEN_FR_EN)\n",
    "    return f\"{spec} {GEN_FR_EN.get(gen, gen)}\".strip()\n",
    "\n",
    "def verify(src, dst, src_lang):\n",
    "    tgt_lang = \"fr\" if src_lang == \"en\" else \"en\"\n",
    "    return translate(src, tgt_lang) == dst\n",
    "\n",
    "def find_locations(text, lang):\n",
    "    doc = NLPS[lang](text)\n",
    "    return [e.text for e in doc.ents if e.label_ in LABELS]\n",
    "\n",
    "def extract_locations(text, lang=\"en\"):\n",
    "    out = []\n",
    "    for p_idx, para in enumerate(text.split(\"\\n\\n\"), 1):\n",
    "        doc = NLPS[lang](para)\n",
    "        for s_idx, sent in enumerate(doc.sents, 1):\n",
    "            for ent in sent.ents:\n",
    "                if ent.label_ in LABELS:\n",
    "                    out.append((p_idx, s_idx, ent.text))\n",
    "    return out\n",
    "\n",
    "def match_locations(en_text, fr_text):\n",
    "    en_locs = extract_locations(en_text, \"en\")\n",
    "    fr_locs = extract_locations(fr_text, \"fr\")\n",
    "    fr_map = {(p, s): t for p, s, t in fr_locs}\n",
    "\n",
    "    pairs, missing = [], []\n",
    "    for p, s, en_t in en_locs:\n",
    "        fr_expected = translate(en_t, \"fr\")\n",
    "        if fr_map.get((p, s), \"\").lower() == fr_expected.lower():\n",
    "            pairs.append(((p, s, en_t), fr_expected))\n",
    "        else:\n",
    "            missing.append((p, s, en_t, fr_expected))\n",
    "    return pairs, missing\n",
    "\n"
   ],
   "id": "2a219c9f465419ec",
   "outputs": [],
   "execution_count": null
  },
  {
   "metadata": {},
   "cell_type": "code",
   "source": "",
   "id": "33ebe7d5a0eb9c60",
   "outputs": [],
   "execution_count": null
  },
  {
   "metadata": {},
   "cell_type": "code",
   "source": "",
   "id": "ac6b46466c5135fe",
   "outputs": [],
   "execution_count": null
  },
  {
   "metadata": {},
   "cell_type": "code",
   "source": "",
   "id": "51f72f9966c6d752",
   "outputs": [],
   "execution_count": null
  },
  {
   "metadata": {},
   "cell_type": "code",
   "source": "",
   "id": "55747b260c38eb50",
   "outputs": [],
   "execution_count": null
  },
  {
   "metadata": {},
   "cell_type": "code",
   "source": "",
   "id": "10bf25916da97059",
   "outputs": [],
   "execution_count": null
  },
  {
   "metadata": {},
   "cell_type": "code",
   "source": "",
   "id": "729725b9fb6f30b1",
   "outputs": [],
   "execution_count": null
  },
  {
   "metadata": {},
   "cell_type": "markdown",
   "source": "# Species Translations",
   "id": "d19d2d38c265d3cc"
  },
  {
   "metadata": {},
   "cell_type": "code",
   "source": [
    "species_translations = {\n",
    "    \n",
    "}"
   ],
   "id": "a86170de597adc6e",
   "outputs": [],
   "execution_count": null
  },
  {
   "metadata": {},
   "cell_type": "markdown",
   "source": "# Preferential Translations",
   "id": "34b379d8ab5dc75a"
  },
  {
   "metadata": {},
   "cell_type": "code",
   "source": [
    "preferential_translations = {\n",
    "    \n",
    "}"
   ],
   "id": "7ac6c0733329e98e",
   "outputs": [],
   "execution_count": null
  },
  {
   "metadata": {},
   "cell_type": "markdown",
   "source": "# Translation Quality Checker",
   "id": "2e7d4aa1c553aff3"
  },
  {
   "metadata": {},
   "cell_type": "code",
   "source": [
    "# isolate any pre-translated instances from above lists \n",
    "# match to translated version \n",
    "# compare vs expected translation\n",
    "# [optional] find-and-replace to clean up translation\n",
    "\n"
   ],
   "id": "828ae6d8042edd44",
   "outputs": [],
   "execution_count": null
  },
  {
   "metadata": {},
   "cell_type": "code",
   "source": "",
   "id": "5c2a5884b2e9480",
   "outputs": [],
   "execution_count": null
  }
 ],
 "metadata": {
  "kernelspec": {
   "display_name": "Python 3",
   "language": "python",
   "name": "python3"
  },
  "language_info": {
   "codemirror_mode": {
    "name": "ipython",
    "version": 2
   },
   "file_extension": ".py",
   "mimetype": "text/x-python",
   "name": "python",
   "nbconvert_exporter": "python",
   "pygments_lexer": "ipython2",
   "version": "2.7.6"
  }
 },
 "nbformat": 4,
 "nbformat_minor": 5
}
